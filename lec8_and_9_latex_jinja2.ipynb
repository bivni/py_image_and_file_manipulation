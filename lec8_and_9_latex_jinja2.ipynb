{
 "cells": [
  {
   "cell_type": "markdown",
   "metadata": {},
   "source": [
    "# Лекции 30 октября  и 6 ноября 2017\n",
    "\n",
    "Дополнительные сведения в [заметке](https://www.evernote.com/l/AQLiRsgy5BVP-4bAUiOA1GCoTpBKxQ4jQy0) "
   ]
  },
  {
   "cell_type": "code",
   "execution_count": 1,
   "metadata": {},
   "outputs": [
    {
     "data": {
      "text/latex": [
       "\n",
       "Тут не настоящий \\LaTeX{} \n",
       "\n",
       "\n",
       "\n",
       "Выключная формула: \\[ \\frac{1}{2}\\]"
      ],
      "text/plain": [
       "<IPython.core.display.Latex object>"
      ]
     },
     "metadata": {},
     "output_type": "display_data"
    }
   ],
   "source": [
    "%%latex\n",
    "\n",
    "Тут не настоящий \\LaTeX{} \n",
    "\n",
    "\n",
    "\n",
    "Выключная формула: \\[ \\frac{1}{2}\\]"
   ]
  },
  {
   "cell_type": "markdown",
   "metadata": {},
   "source": [
    "## Картинки из LaTeX на языке TikZ\n",
    "\n",
    "нужно еще установить программы ImageMagic и pdf2svg и внести директории  с командами в PATH\n",
    "\n",
    "\n",
    "В командной строке\n",
    "\n",
    "```bash\n",
    "conda install -c conda-forge tikzmagic \n",
    "```"
   ]
  },
  {
   "cell_type": "code",
   "execution_count": 2,
   "metadata": {},
   "outputs": [
    {
     "ename": "ModuleNotFoundError",
     "evalue": "No module named 'tikzmagic'",
     "output_type": "error",
     "traceback": [
      "\u001b[1;31m---------------------------------------------------------------------------\u001b[0m",
      "\u001b[1;31mModuleNotFoundError\u001b[0m                       Traceback (most recent call last)",
      "\u001b[1;32m<ipython-input-2-997c417649e4>\u001b[0m in \u001b[0;36m<module>\u001b[1;34m()\u001b[0m\n\u001b[1;32m----> 1\u001b[1;33m \u001b[0mget_ipython\u001b[0m\u001b[1;33m(\u001b[0m\u001b[1;33m)\u001b[0m\u001b[1;33m.\u001b[0m\u001b[0mrun_line_magic\u001b[0m\u001b[1;33m(\u001b[0m\u001b[1;34m'load_ext'\u001b[0m\u001b[1;33m,\u001b[0m \u001b[1;34m'tikzmagic'\u001b[0m\u001b[1;33m)\u001b[0m\u001b[1;33m\u001b[0m\u001b[0m\n\u001b[0m",
      "\u001b[1;32mC:\\ProgramData\\Anaconda3\\lib\\site-packages\\IPython\\core\\interactiveshell.py\u001b[0m in \u001b[0;36mrun_line_magic\u001b[1;34m(self, magic_name, line, _stack_depth)\u001b[0m\n\u001b[0;32m   2093\u001b[0m                 \u001b[0mkwargs\u001b[0m\u001b[1;33m[\u001b[0m\u001b[1;34m'local_ns'\u001b[0m\u001b[1;33m]\u001b[0m \u001b[1;33m=\u001b[0m \u001b[0msys\u001b[0m\u001b[1;33m.\u001b[0m\u001b[0m_getframe\u001b[0m\u001b[1;33m(\u001b[0m\u001b[0mstack_depth\u001b[0m\u001b[1;33m)\u001b[0m\u001b[1;33m.\u001b[0m\u001b[0mf_locals\u001b[0m\u001b[1;33m\u001b[0m\u001b[0m\n\u001b[0;32m   2094\u001b[0m             \u001b[1;32mwith\u001b[0m \u001b[0mself\u001b[0m\u001b[1;33m.\u001b[0m\u001b[0mbuiltin_trap\u001b[0m\u001b[1;33m:\u001b[0m\u001b[1;33m\u001b[0m\u001b[0m\n\u001b[1;32m-> 2095\u001b[1;33m                 \u001b[0mresult\u001b[0m \u001b[1;33m=\u001b[0m \u001b[0mfn\u001b[0m\u001b[1;33m(\u001b[0m\u001b[1;33m*\u001b[0m\u001b[0margs\u001b[0m\u001b[1;33m,\u001b[0m\u001b[1;33m**\u001b[0m\u001b[0mkwargs\u001b[0m\u001b[1;33m)\u001b[0m\u001b[1;33m\u001b[0m\u001b[0m\n\u001b[0m\u001b[0;32m   2096\u001b[0m             \u001b[1;32mreturn\u001b[0m \u001b[0mresult\u001b[0m\u001b[1;33m\u001b[0m\u001b[0m\n\u001b[0;32m   2097\u001b[0m \u001b[1;33m\u001b[0m\u001b[0m\n",
      "\u001b[1;32m<decorator-gen-66>\u001b[0m in \u001b[0;36mload_ext\u001b[1;34m(self, module_str)\u001b[0m\n",
      "\u001b[1;32mC:\\ProgramData\\Anaconda3\\lib\\site-packages\\IPython\\core\\magic.py\u001b[0m in \u001b[0;36m<lambda>\u001b[1;34m(f, *a, **k)\u001b[0m\n\u001b[0;32m    185\u001b[0m     \u001b[1;31m# but it's overkill for just that one bit of state.\u001b[0m\u001b[1;33m\u001b[0m\u001b[1;33m\u001b[0m\u001b[0m\n\u001b[0;32m    186\u001b[0m     \u001b[1;32mdef\u001b[0m \u001b[0mmagic_deco\u001b[0m\u001b[1;33m(\u001b[0m\u001b[0marg\u001b[0m\u001b[1;33m)\u001b[0m\u001b[1;33m:\u001b[0m\u001b[1;33m\u001b[0m\u001b[0m\n\u001b[1;32m--> 187\u001b[1;33m         \u001b[0mcall\u001b[0m \u001b[1;33m=\u001b[0m \u001b[1;32mlambda\u001b[0m \u001b[0mf\u001b[0m\u001b[1;33m,\u001b[0m \u001b[1;33m*\u001b[0m\u001b[0ma\u001b[0m\u001b[1;33m,\u001b[0m \u001b[1;33m**\u001b[0m\u001b[0mk\u001b[0m\u001b[1;33m:\u001b[0m \u001b[0mf\u001b[0m\u001b[1;33m(\u001b[0m\u001b[1;33m*\u001b[0m\u001b[0ma\u001b[0m\u001b[1;33m,\u001b[0m \u001b[1;33m**\u001b[0m\u001b[0mk\u001b[0m\u001b[1;33m)\u001b[0m\u001b[1;33m\u001b[0m\u001b[0m\n\u001b[0m\u001b[0;32m    188\u001b[0m \u001b[1;33m\u001b[0m\u001b[0m\n\u001b[0;32m    189\u001b[0m         \u001b[1;32mif\u001b[0m \u001b[0mcallable\u001b[0m\u001b[1;33m(\u001b[0m\u001b[0marg\u001b[0m\u001b[1;33m)\u001b[0m\u001b[1;33m:\u001b[0m\u001b[1;33m\u001b[0m\u001b[0m\n",
      "\u001b[1;32mC:\\ProgramData\\Anaconda3\\lib\\site-packages\\IPython\\core\\magics\\extension.py\u001b[0m in \u001b[0;36mload_ext\u001b[1;34m(self, module_str)\u001b[0m\n\u001b[0;32m     31\u001b[0m         \u001b[1;32mif\u001b[0m \u001b[1;32mnot\u001b[0m \u001b[0mmodule_str\u001b[0m\u001b[1;33m:\u001b[0m\u001b[1;33m\u001b[0m\u001b[0m\n\u001b[0;32m     32\u001b[0m             \u001b[1;32mraise\u001b[0m \u001b[0mUsageError\u001b[0m\u001b[1;33m(\u001b[0m\u001b[1;34m'Missing module name.'\u001b[0m\u001b[1;33m)\u001b[0m\u001b[1;33m\u001b[0m\u001b[0m\n\u001b[1;32m---> 33\u001b[1;33m         \u001b[0mres\u001b[0m \u001b[1;33m=\u001b[0m \u001b[0mself\u001b[0m\u001b[1;33m.\u001b[0m\u001b[0mshell\u001b[0m\u001b[1;33m.\u001b[0m\u001b[0mextension_manager\u001b[0m\u001b[1;33m.\u001b[0m\u001b[0mload_extension\u001b[0m\u001b[1;33m(\u001b[0m\u001b[0mmodule_str\u001b[0m\u001b[1;33m)\u001b[0m\u001b[1;33m\u001b[0m\u001b[0m\n\u001b[0m\u001b[0;32m     34\u001b[0m \u001b[1;33m\u001b[0m\u001b[0m\n\u001b[0;32m     35\u001b[0m         \u001b[1;32mif\u001b[0m \u001b[0mres\u001b[0m \u001b[1;33m==\u001b[0m \u001b[1;34m'already loaded'\u001b[0m\u001b[1;33m:\u001b[0m\u001b[1;33m\u001b[0m\u001b[0m\n",
      "\u001b[1;32mC:\\ProgramData\\Anaconda3\\lib\\site-packages\\IPython\\core\\extensions.py\u001b[0m in \u001b[0;36mload_extension\u001b[1;34m(self, module_str)\u001b[0m\n\u001b[0;32m     83\u001b[0m             \u001b[1;32mif\u001b[0m \u001b[0mmodule_str\u001b[0m \u001b[1;32mnot\u001b[0m \u001b[1;32min\u001b[0m \u001b[0msys\u001b[0m\u001b[1;33m.\u001b[0m\u001b[0mmodules\u001b[0m\u001b[1;33m:\u001b[0m\u001b[1;33m\u001b[0m\u001b[0m\n\u001b[0;32m     84\u001b[0m                 \u001b[1;32mwith\u001b[0m \u001b[0mprepended_to_syspath\u001b[0m\u001b[1;33m(\u001b[0m\u001b[0mself\u001b[0m\u001b[1;33m.\u001b[0m\u001b[0mipython_extension_dir\u001b[0m\u001b[1;33m)\u001b[0m\u001b[1;33m:\u001b[0m\u001b[1;33m\u001b[0m\u001b[0m\n\u001b[1;32m---> 85\u001b[1;33m                     \u001b[0mmod\u001b[0m \u001b[1;33m=\u001b[0m \u001b[0mimport_module\u001b[0m\u001b[1;33m(\u001b[0m\u001b[0mmodule_str\u001b[0m\u001b[1;33m)\u001b[0m\u001b[1;33m\u001b[0m\u001b[0m\n\u001b[0m\u001b[0;32m     86\u001b[0m                     \u001b[1;32mif\u001b[0m \u001b[0mmod\u001b[0m\u001b[1;33m.\u001b[0m\u001b[0m__file__\u001b[0m\u001b[1;33m.\u001b[0m\u001b[0mstartswith\u001b[0m\u001b[1;33m(\u001b[0m\u001b[0mself\u001b[0m\u001b[1;33m.\u001b[0m\u001b[0mipython_extension_dir\u001b[0m\u001b[1;33m)\u001b[0m\u001b[1;33m:\u001b[0m\u001b[1;33m\u001b[0m\u001b[0m\n\u001b[0;32m     87\u001b[0m                         print((\"Loading extensions from {dir} is deprecated. \"\n",
      "\u001b[1;32mC:\\ProgramData\\Anaconda3\\lib\\importlib\\__init__.py\u001b[0m in \u001b[0;36mimport_module\u001b[1;34m(name, package)\u001b[0m\n\u001b[0;32m    124\u001b[0m                 \u001b[1;32mbreak\u001b[0m\u001b[1;33m\u001b[0m\u001b[0m\n\u001b[0;32m    125\u001b[0m             \u001b[0mlevel\u001b[0m \u001b[1;33m+=\u001b[0m \u001b[1;36m1\u001b[0m\u001b[1;33m\u001b[0m\u001b[0m\n\u001b[1;32m--> 126\u001b[1;33m     \u001b[1;32mreturn\u001b[0m \u001b[0m_bootstrap\u001b[0m\u001b[1;33m.\u001b[0m\u001b[0m_gcd_import\u001b[0m\u001b[1;33m(\u001b[0m\u001b[0mname\u001b[0m\u001b[1;33m[\u001b[0m\u001b[0mlevel\u001b[0m\u001b[1;33m:\u001b[0m\u001b[1;33m]\u001b[0m\u001b[1;33m,\u001b[0m \u001b[0mpackage\u001b[0m\u001b[1;33m,\u001b[0m \u001b[0mlevel\u001b[0m\u001b[1;33m)\u001b[0m\u001b[1;33m\u001b[0m\u001b[0m\n\u001b[0m\u001b[0;32m    127\u001b[0m \u001b[1;33m\u001b[0m\u001b[0m\n\u001b[0;32m    128\u001b[0m \u001b[1;33m\u001b[0m\u001b[0m\n",
      "\u001b[1;32mC:\\ProgramData\\Anaconda3\\lib\\importlib\\_bootstrap.py\u001b[0m in \u001b[0;36m_gcd_import\u001b[1;34m(name, package, level)\u001b[0m\n",
      "\u001b[1;32mC:\\ProgramData\\Anaconda3\\lib\\importlib\\_bootstrap.py\u001b[0m in \u001b[0;36m_find_and_load\u001b[1;34m(name, import_)\u001b[0m\n",
      "\u001b[1;32mC:\\ProgramData\\Anaconda3\\lib\\importlib\\_bootstrap.py\u001b[0m in \u001b[0;36m_find_and_load_unlocked\u001b[1;34m(name, import_)\u001b[0m\n",
      "\u001b[1;31mModuleNotFoundError\u001b[0m: No module named 'tikzmagic'"
     ]
    }
   ],
   "source": [
    "%load_ext tikzmagic"
   ]
  },
  {
   "cell_type": "code",
   "execution_count": 3,
   "metadata": {
    "collapsed": true
   },
   "outputs": [],
   "source": [
    "# можно получить справку %%tikz?"
   ]
  },
  {
   "cell_type": "code",
   "execution_count": 4,
   "metadata": {
    "scrolled": false
   },
   "outputs": [
    {
     "data": {
      "image/png": "[encoded data removed]"
     },
     "metadata": {},
     "output_type": "display_data"
    }
   ],
   "source": [
    "%%tikz  --size 600,800 \n",
    "    % \";\" в конце каждой команды TikZ. \n",
    "    % help lines -- это стиль линий сетки\n",
    "\\draw [help lines] (0,0) grid (4,4) ; \n",
    "\n",
    "    % -stealth стиль стрелки как у самолета Stealth\n",
    "\\draw [red, -stealth, thick] (2,2) -- (3,1) ;  \n",
    "\n",
    "    %  заполнение (fill) круга 50% синего 20% зеленого,\n",
    "    % а цвет линии (draw) смесь 50% оранжевого и прозрачного\n",
    "    % линия имеет толщину (line width) 8 пунктов\n",
    "\\path [fill=blue!50!green!20, draw=orange!50, line width=8pt] (2,2) circle (1) ; \n",
    " \n",
    "    % >>>>- Это стиль \"хвостовика\" линии  \n",
    "\\draw [red, >>>>-, thick] (1,3) -- (2,2) ;\n",
    "\n",
    "\n"
   ]
  },
  {
   "cell_type": "markdown",
   "metadata": {},
   "source": [
    "# Шаблоны Jinja2"
   ]
  },
  {
   "cell_type": "markdown",
   "metadata": {},
   "source": [
    "## Простые шаблоны"
   ]
  },
  {
   "cell_type": "markdown",
   "metadata": {},
   "source": [
    "Официальная документация по шаблонам <http://jinja.pocoo.org/docs/2.9/templates/>"
   ]
  },
  {
   "cell_type": "code",
   "execution_count": 3,
   "metadata": {},
   "outputs": [
    {
     "name": "stdout",
     "output_type": "stream",
     "text": [
      "Привет, Илья!\n",
      "Привет, Серёга!\n",
      "Привет, Сергей Борисович!\n"
     ]
    }
   ],
   "source": [
    "import jinja2\n",
    "\n",
    "\n",
    "text = \"\"\"{#\n",
    " Джинжевский коментарий\n",
    " тут\n",
    "#} \n",
    "Привет, {{name}}!\"\"\"\n",
    "\n",
    "text = \"Привет, {{name}}!\"\n",
    "template = jinja2.Template(text)\n",
    "\n",
    "print(template.render(name=\"Илья\"))\n",
    "print(template.render(name=\"Серёга\"))\n",
    "\n",
    "text = \"Привет, {{name}} {{second_name}}!\"\n",
    "template = jinja2.Template(text)\n",
    "print(template.render(name=\"Сергей\",second_name=\"Борисович\"))"
   ]
  },
  {
   "cell_type": "code",
   "execution_count": 4,
   "metadata": {},
   "outputs": [
    {
     "name": "stdout",
     "output_type": "stream",
     "text": [
      "Здравствуй, мудрый Илья!\n",
      "Здравствуй, проницательный Илья!\n",
      "Здравствуй, прекрасный Илья!\n",
      "\n",
      "Здравствуй, мудрый Сергей!\n",
      "Здравствуй, проницательный Сергей!\n",
      "Здравствуй, прекрасный Сергей!\n",
      "\n",
      "Здравствуй, мудрый Ерофей Павлович!!\n",
      "Здравствуй, проницательный Ерофей Павлович!!\n",
      "Здравствуй, прекрасный Ерофей Павлович!!\n",
      "\n"
     ]
    }
   ],
   "source": [
    "\n",
    "text = '{% for item in [\"мудрый\", \"проницательный\", \"прекрасный\"] %}Здравствуй, {{ item + \" \" + name }}!\\n{% endfor %}'\n",
    "template = jinja2.Template(text)\n",
    "\n",
    "print(template.render(name=\"Илья\"))\n",
    "print(template.render(name=\"Сергей\"))\n",
    "print(template.render(name=\"Ерофей Павлович!\"))\n"
   ]
  },
  {
   "cell_type": "markdown",
   "metadata": {},
   "source": [
    "### Наследование шаблонов\n",
    "\n",
    "В применениях Jinja2 для  генерации веб-страниц или документов LaTeX хочется иметь возможность варьировать только отдельные блоки внутри базового шаблона, оставляя основу неизменной. А шаблоны, которые строятся на основе базового расширяют его (**extents**). При написании расширяющих базу шаблонов нужно только переопределять отдельные блоки базового шаблона, а общую часть уже писать не нужно.\n",
    "\n",
    "\n",
    "В базовом шаблоне мы обьявляем блоки "
   ]
  },
  {
   "cell_type": "code",
   "execution_count": 4,
   "metadata": {},
   "outputs": [
    {
     "name": "stdout",
     "output_type": "stream",
     "text": [
      "Overwriting base_templ.txt\n"
     ]
    }
   ],
   "source": [
    "%%writefile base_templ.txt\n",
    "<<<<<<<<<<<<<**********BEGIN*DEMO*DOCUMENT*********>>>>>>>>>>>>\n",
    "дата:\n",
    "    {{publication_date}}\n",
    "\n",
    "название:\n",
    "    {% block title%}\n",
    "    Статья на неопределнную тему\n",
    "    {% endblock %}\n",
    "\n",
    "авторы: \n",
    "    {% block authors%}\n",
    "    Илья Кочергин\n",
    "    {% endblock %}\n",
    "\n",
    "<<<<<<<<<<<<<***********END*DEMO*DOCUMENT**********>>>>>>>>>>>>\n"
   ]
  },
  {
   "cell_type": "code",
   "execution_count": 7,
   "metadata": {},
   "outputs": [
    {
     "name": "stdout",
     "output_type": "stream",
     "text": [
      "<<<<<<<<<<<<<**********BEGIN*DEMO*DOCUMENT*********>>>>>>>>>>>>\n",
      "дата:\n",
      "    2018-11-23\n",
      "\n",
      "название:\n",
      "        Статья на неопределнную тему\n",
      "    \n",
      "авторы: \n",
      "        Илья Кочергин\n",
      "    \n",
      "<<<<<<<<<<<<<***********END*DEMO*DOCUMENT**********>>>>>>>>>>>>\n"
     ]
    }
   ],
   "source": [
    "import jinja2 \n",
    "import os\n",
    "import datetime\n",
    "\n",
    "current_date = datetime.datetime.date(datetime.datetime.now())\n",
    "jinja_env = jinja2.Environment( \n",
    "    trim_blocks = True,\n",
    "    autoescape = False,\n",
    "    loader = jinja2.FileSystemLoader(os.path.abspath('.'))\n",
    ")    \n",
    "base_templ = jinja_env.get_template('base_templ.txt')\n",
    "    \n",
    "print(base_templ.render(publication_date=current_date))"
   ]
  },
  {
   "cell_type": "markdown",
   "metadata": {},
   "source": [
    "* * * \n",
    "\n",
    "\n",
    "В \"дочернем\" шаблоне мы переопределяем только те блоки, которые нас не устраивают в базовом шаблоне. На имя файла с базовым шаблоном  мы ссылаемся при помощи команды ```{% extends \"base_templ.txt\" %}```\n",
    "\n",
    "* * *\n",
    "\n",
    "в этом примере нас устраивает в базовом шаблоне все, кроме названия"
   ]
  },
  {
   "cell_type": "code",
   "execution_count": 8,
   "metadata": {},
   "outputs": [
    {
     "name": "stdout",
     "output_type": "stream",
     "text": [
      "Overwriting child1_templ.txt\n"
     ]
    }
   ],
   "source": [
    "%%writefile  child1_templ.txt\n",
    "{% extends \"base_templ.txt\" %}\n",
    "\n",
    "{% block title%}\n",
    "Особенности гидрофобных форм жизни\n",
    "{% endblock %}\n"
   ]
  },
  {
   "cell_type": "code",
   "execution_count": 10,
   "metadata": {},
   "outputs": [
    {
     "name": "stdout",
     "output_type": "stream",
     "text": [
      "<<<<<<<<<<<<<**********BEGIN*DEMO*DOCUMENT*********>>>>>>>>>>>>\n",
      "дата:\n",
      "    Ноябрь 2017\n",
      "\n",
      "название:\n",
      "    Особенности гидрофобных форм жизни\n",
      "\n",
      "авторы: \n",
      "        Илья Кочергин\n",
      "    \n",
      "<<<<<<<<<<<<<***********END*DEMO*DOCUMENT**********>>>>>>>>>>>>\n"
     ]
    }
   ],
   "source": [
    "child1_templ = jinja_env.get_template('child1_templ.txt')\n",
    "\n",
    "print(child1_templ.render(publication_date=\"Ноябрь 2017\"))"
   ]
  },
  {
   "cell_type": "code",
   "execution_count": 11,
   "metadata": {},
   "outputs": [
    {
     "name": "stdout",
     "output_type": "stream",
     "text": [
      "Overwriting child2_templ.txt\n"
     ]
    }
   ],
   "source": [
    "%%writefile  child2_templ.txt\n",
    "{% extends \"base_templ.txt\" %}\n",
    "\n",
    "{% block title%}\n",
    "Использование цепей Маркова в генераторах бреда. \n",
    "    ({% for i in range(1,4) %}Часть {{i}} {%endfor%})\n",
    "{% endblock %}\n",
    "\n",
    "{% block authors %}\n",
    "{{ super() }}\n",
    "        Василий Пупкин   \n",
    "{% endblock%}\n"
   ]
  },
  {
   "cell_type": "code",
   "execution_count": 10,
   "metadata": {},
   "outputs": [
    {
     "name": "stdout",
     "output_type": "stream",
     "text": [
      "<<<<<<<<<<<<<**********BEGIN*DEMO*DOCUMENT*********>>>>>>>>>>>>\n",
      "дата:\n",
      "    Октябрь 2017\n",
      "\n",
      "название:\n",
      "    Использование цепей Маркова в генераторах бреда. \n",
      "    (Часть 1 Часть 2 Часть 3 )\n",
      "\n",
      "авторы: \n",
      "        Илья Кочергин\n",
      "    \n",
      "        Василий Пупкин   \n",
      "\n",
      "<<<<<<<<<<<<<***********END*DEMO*DOCUMENT**********>>>>>>>>>>>>\n"
     ]
    }
   ],
   "source": [
    "child2_templ = jinja_env.get_template('child2_templ.txt')\n",
    "\n",
    "print(child2_templ.render(publication_date=\"Октябрь 2017\"))"
   ]
  },
  {
   "cell_type": "markdown",
   "metadata": {},
   "source": [
    "## Шаблоны LaTeX"
   ]
  },
  {
   "cell_type": "markdown",
   "metadata": {},
   "source": [
    "Пример из [статьи](http://eosrei.net/articles/2015/11/latex-templates-python-and-jinja2-generate-pdfs)\n",
    "\n",
    "В этом примере символы, сигнализирующие шаблонизатору, что он должен по-другому интерпретировать заключённые в них конструкции, определены так, чтобы  \n",
    "\n",
    "\n",
    "```python\n",
    "from jinja2 import Template\n",
    "\n",
    "# tex-like delimiters\n",
    "latex_jinja_env = jinja2.Environment(\n",
    "    block_start_string = '\\BLOCK{',\n",
    "    block_end_string = '}',\n",
    "    variable_start_string = '\\VAR{',\n",
    "    variable_end_string = '}',\n",
    "    comment_start_string = '\\#{',\n",
    "    comment_end_string = '}',\n",
    "    line_statement_prefix = '%%',\n",
    "    line_comment_prefix = '%#',\n",
    "    trim_blocks = True,\n",
    "    autoescape = False,\n",
    "    loader = jinja2.FileSystemLoader(os.path.abspath('.'))\n",
    ")\n",
    "\n",
    "template = latex_jinja_env.get_template('jinja-test.tex')\n",
    "print(template.render(section1='Long Form', section2='Short Form'))\n",
    "```"
   ]
  },
  {
   "cell_type": "code",
   "execution_count": 12,
   "metadata": {},
   "outputs": [
    {
     "name": "stdout",
     "output_type": "stream",
     "text": [
      "Overwriting jinja-test.tex\n"
     ]
    }
   ],
   "source": [
    "%%writefile jinja-test.tex\n",
    "\n",
    "% !TeX program=xelatex\n",
    "\n",
    "\\documentclass{article}\n",
    "   \\usepackage{xltxtra} \n",
    "   \\usepackage{fontspec}\n",
    "    \\defaultfontfeatures{Renderer=Basic, Ligatures=TeX} %лигатуры работают в basic режиме\n",
    "    \\setmainfont{Times New Roman}\n",
    "    \\setsansfont{Arial}\n",
    "    \\setmonofont{Courier New}\n",
    "    \\newfontfamily{\\cyrillicfonttt}{Courier New} \n",
    "    \\newcommand{\\lsstyle}{\\addfontfeature{LetterSpace=12.0}}\n",
    "    \\usepackage[english,russian]{babel}\n",
    "    \\usepackage{xcolor}\n",
    "    \\usepackage{graphicx}\n",
    "    \\usepackage{verbatim} \n",
    "\n",
    "\\begin{document}\n",
    "\\section{Пример}\n",
    "Пример документа с использованием \\LaTeX, Python, и Jinja.\n",
    "\n",
    "% This is a regular LaTeX comment\n",
    "\\section{\\VAR{section1var}}\n",
    "\\#{This is a long-form Jinja comment}\n",
    "\\begin{itemize}\n",
    "\\BLOCK{ for x in range(0, 8) }\n",
    "  \\item Counting: \\VAR{x}\n",
    "\\BLOCK{ endfor }\n",
    "\\end{itemize}\n",
    "\n",
    "\\section{\\VAR{section2var}}\n",
    "%# This is a short-form Jinja comment\n",
    "\\begin{itemize}\n",
    "%% for x in range(0, 3)\n",
    "  \\item Counting: \\VAR{x}\n",
    "%% endfor\n",
    "\\end{itemize}\n",
    "\n",
    "\\end{document}\n",
    "The above results in test.tex:\n",
    "\n",
    "\\documentclass{article}\n",
    "\\begin{document}\n",
    "\\section{Example}\n",
    "An example document using \\LaTeX, Python, and Jinja.\n",
    "\n",
    "% This is a regular LaTeX comment\n",
    "\\section{Long Form}\n",
    "\\begin{itemize}\n",
    "  \\item Counting: 0\n",
    "  \\item Counting: 1\n",
    "  \\item Counting: 2\n",
    "\\end{itemize}\n",
    "\n",
    "\\section{Short Form}\n",
    "\n",
    "\\begin{itemize}\n",
    "  \\item Counting: 0\n",
    "  \\item Counting: 1\n",
    "  \\item Counting: 2\n",
    "\\end{itemize}\n",
    "\n",
    "\\end{document}"
   ]
  },
  {
   "cell_type": "code",
   "execution_count": 13,
   "metadata": {},
   "outputs": [
    {
     "data": {
      "text/plain": [
       "'C:\\\\Users\\\\koch\\\\Documents\\\\python'"
      ]
     },
     "execution_count": 13,
     "metadata": {},
     "output_type": "execute_result"
    }
   ],
   "source": [
    "os.path.abspath('.')"
   ]
  },
  {
   "cell_type": "code",
   "execution_count": 14,
   "metadata": {},
   "outputs": [
    {
     "name": "stdout",
     "output_type": "stream",
     "text": [
      "\n",
      "% !TeX program=xelatex\n",
      "\n",
      "\\documentclass{article}\n",
      "   \\usepackage{xltxtra} \n",
      "   \\usepackage{fontspec}\n",
      "    \\defaultfontfeatures{Renderer=Basic, Ligatures=TeX} %лигатуры работают в basic режиме\n",
      "    \\setmainfont{Times New Roman}\n",
      "    \\setsansfont{Arial}\n",
      "    \\setmonofont{Courier New}\n",
      "    \\newfontfamily{\\cyrillicfonttt}{Courier New} \n",
      "    \\newcommand{\\lsstyle}{\\addfontfeature{LetterSpace=12.0}}\n",
      "    \\usepackage[english,russian]{babel}\n",
      "    \\usepackage{xcolor}\n",
      "    \\usepackage{graphicx}\n",
      "    \\usepackage{verbatim} \n",
      "\n",
      "\\begin{document}\n",
      "\\section{Пример}\n",
      "Пример документа с использованием \\LaTeX, Python, и Jinja.\n",
      "\n",
      "% This is a regular LaTeX comment\n",
      "\\section{Long Form}\n",
      "\\begin{itemize}\n",
      "  \\item Counting: 0\n",
      "  \\item Counting: 1\n",
      "  \\item Counting: 2\n",
      "  \\item Counting: 3\n",
      "  \\item Counting: 4\n",
      "  \\item Counting: 5\n",
      "  \\item Counting: 6\n",
      "  \\item Counting: 7\n",
      "\\end{itemize}\n",
      "\n",
      "\\section{Short Form}\n",
      "\n",
      "\\begin{itemize}\n",
      "  \\item Counting: 0\n",
      "  \\item Counting: 1\n",
      "  \\item Counting: 2\n",
      "\\end{itemize}\n",
      "\n",
      "\\end{document}\n",
      "The above results in test.tex:\n",
      "\n",
      "\\documentclass{article}\n",
      "\\begin{document}\n",
      "\\section{Example}\n",
      "An example document using \\LaTeX, Python, and Jinja.\n",
      "\n",
      "% This is a regular LaTeX comment\n",
      "\\section{Long Form}\n",
      "\\begin{itemize}\n",
      "  \\item Counting: 0\n",
      "  \\item Counting: 1\n",
      "  \\item Counting: 2\n",
      "\\end{itemize}\n",
      "\n",
      "\\section{Short Form}\n",
      "\n",
      "\\begin{itemize}\n",
      "  \\item Counting: 0\n",
      "  \\item Counting: 1\n",
      "  \\item Counting: 2\n",
      "\\end{itemize}\n",
      "\n",
      "\\end{document}\n"
     ]
    }
   ],
   "source": [
    "import jinja2 \n",
    "import os\n",
    "\n",
    "# tex-like delimiters\n",
    "latex_jinja_env = jinja2.Environment(\n",
    "    block_start_string = '\\BLOCK{',\n",
    "    block_end_string = '}',\n",
    "    variable_start_string = '\\VAR{',\n",
    "    variable_end_string = '}',\n",
    "    comment_start_string = '\\#{',\n",
    "    comment_end_string = '}',\n",
    "    line_statement_prefix = '%%',\n",
    "    line_comment_prefix = '%#',\n",
    "    trim_blocks = True,\n",
    "    autoescape = False,\n",
    "    loader = jinja2.FileSystemLoader(os.path.abspath('.'))\n",
    ")\n",
    "\n",
    "template = latex_jinja_env.get_template('jinja-test.tex')\n",
    "\n",
    "print(template.render(section1var='Long Form', section2var='Short Form') )\n",
    "# with open(\"example.tex\",\"w\",encoding=\"utf-8\") as tfile:  # DEFAULT encoding=\"CP1251\"  !!!\n",
    "#     print(template.render(section1='Long Form', section2='Short Form'), file=tfile)"
   ]
  },
  {
   "cell_type": "code",
   "execution_count": 15,
   "metadata": {},
   "outputs": [
    {
     "name": "stdout",
     "output_type": "stream",
     "text": [
      "’ҐЄгй п Є®¤®ў п бва ­Ёж : 1251\n",
      "\\documentclass[varwidth=true]{standalone}\n",
      "   \\usepackage{xltxtra} \n",
      "   \\usepackage{fontspec}\n",
      "  %  \\defaultfontfeatures{Renderer=Basic, Ligatures=TeX} %Р»РёРіР°С‚СѓСЂС‹ СЂР°Р±РѕС‚Р°СЋС‚ РІ basic СЂРµР¶РёРјРµ\n",
      "    \\setmainfont{Times New Roman}\n",
      "    \\setsansfont{Arial}\n",
      "    \\setmonofont{Courier New}\n",
      "    \\newfontfamily{\\cyrillicfonttt}{Courier New} \n",
      "    \\newcommand{\\lsstyle}{\\addfontfeature{LetterSpace=12.0}}\n",
      "    \\usepackage[english,russian]{babel}\n",
      "    \\usepackage{xcolor}\n",
      "    \\usepackage{graphicx}\n",
      "    \\usepackage{verbatim} \n",
      "\n",
      "\\begin{document}\n",
      "\\section{РџСЂРёРјРµСЂ}\n",
      "РџСЂРёРјРµСЂ РґРѕРєСѓРјРµРЅС‚Р° СЃ РёСЃРїРѕР»СЊР·РѕРІР°РЅРёРµРј \\LaTeX, Python, Рё Jinja.\n",
      "\n",
      "% This is a regular LaTeX comment\n",
      "\\section{Long Form}\n",
      "\\begin{itemize}\n",
      "  \\item Counting: 0\n",
      "  \\item Counting: 1\n",
      "  \\item Counting: 2\n",
      "\\end{itemize}\n",
      "\n",
      "\\section{Short Form}\n",
      "\n",
      "\\begin{itemize}\n",
      "  \\item Counting: 0\n",
      "  \\item Counting: 1\n",
      "  \\item Counting: 2\n",
      "\\end{itemize}\n",
      "\n",
      "\\end{document}\n"
     ]
    }
   ],
   "source": [
    "!chcp 1251\n",
    "!type example.tex"
   ]
  },
  {
   "cell_type": "code",
   "execution_count": 16,
   "metadata": {},
   "outputs": [
    {
     "name": "stdout",
     "output_type": "stream",
     "text": [
      "This is XeTeX, Version 3.14159265-2.6-0.99999 (TeX Live 2018/W32TeX) (preloaded format=xelatex)\n",
      " restricted \\write18 enabled.\n",
      "entering extended mode\n",
      "(./example.tex\n",
      "LaTeX2e <2018-04-01> patch level 2\n",
      "Babel <3.18> and hyphenation patterns for 84 language(s) loaded.\n",
      "(c:/texlive/2018/texmf-dist/tex/latex/standalone/standalone.cls\n",
      "Document Class: standalone 2018/03/26 v1.3a Class to compile TeX sub-files stan\n",
      "dalone\n",
      "(c:/texlive/2018/texmf-dist/tex/latex/tools/shellesc.sty)\n",
      "(c:/texlive/2018/texmf-dist/tex/generic/oberdiek/ifluatex.sty)\n",
      "(c:/texlive/2018/texmf-dist/tex/generic/oberdiek/ifpdf.sty)\n",
      "(c:/texlive/2018/texmf-dist/tex/generic/ifxetex/ifxetex.sty)\n",
      "(c:/texlive/2018/texmf-dist/tex/latex/xkeyval/xkeyval.sty\n",
      "(c:/texlive/2018/texmf-dist/tex/generic/xkeyval/xkeyval.tex\n",
      "(c:/texlive/2018/texmf-dist/tex/generic/xkeyval/xkvutils.tex\n",
      "(c:/texlive/2018/texmf-dist/tex/generic/xkeyval/keyval.tex))))\n",
      "(c:/texlive/2018/texmf-dist/tex/latex/standalone/standalone.cfg)\n",
      "(c:/texlive/2018/texmf-dist/tex/latex/base/article.cls\n",
      "Document Class: article 2014/09/29 v1.4h Standard LaTeX document class\n",
      "(c:/texlive/2018/texmf-dist/tex/latex/base/size10.clo))\n",
      "(c:/texlive/2018/texmf-dist/tex/latex/varwidth/varwidth.sty))\n",
      "(c:/texlive/2018/texmf-dist/tex/latex/xltxtra/xltxtra.sty\n",
      "(c:/texlive/2018/texmf-dist/tex/latex/fontspec/fontspec.sty\n",
      "(c:/texlive/2018/texmf-dist/tex/latex/l3packages/xparse/xparse.sty\n",
      "(c:/texlive/2018/texmf-dist/tex/latex/l3kernel/expl3.sty\n",
      "(c:/texlive/2018/texmf-dist/tex/latex/l3kernel/expl3-code.tex)\n",
      "(c:/texlive/2018/texmf-dist/tex/latex/l3kernel/l3xdvipdfmx.def)))\n",
      "(c:/texlive/2018/texmf-dist/tex/latex/fontspec/fontspec-xetex.sty\n",
      "(c:/texlive/2018/texmf-dist/tex/latex/base/fontenc.sty\n",
      "(c:/texlive/2018/texmf-dist/tex/latex/base/tuenc.def))\n",
      "(c:/texlive/2018/texmf-dist/tex/latex/fontspec/fontspec.cfg)))\n",
      "(c:/texlive/2018/texmf-dist/tex/latex/realscripts/realscripts.sty)\n",
      "(c:/texlive/2018/texmf-dist/tex/latex/metalogo/metalogo.sty\n",
      "(c:/texlive/2018/texmf-dist/tex/latex/graphics/graphicx.sty\n",
      "(c:/texlive/2018/texmf-dist/tex/latex/graphics/graphics.sty\n",
      "(c:/texlive/2018/texmf-dist/tex/latex/graphics/trig.sty)\n",
      "(c:/texlive/2018/texmf-dist/tex/latex/graphics-cfg/graphics.cfg)\n",
      "(c:/texlive/2018/texmf-dist/tex/latex/graphics-def/xetex.def)))))\n",
      "(c:/texlive/2018/texmf-dist/tex/generic/babel/babel.sty\n",
      "(c:/texlive/2018/texmf-dist/tex/generic/babel/switch.def)\n",
      "(c:/texlive/2018/texmf-dist/tex/generic/babel-english/english.ldf\n",
      "(c:/texlive/2018/texmf-dist/tex/generic/babel/babel.def\n",
      "(c:/texlive/2018/texmf-dist/tex/generic/babel/xebabel.def\n",
      "(c:/texlive/2018/texmf-dist/tex/generic/babel/txtbabel.def))))\n",
      "(c:/texlive/2018/texmf-dist/tex/generic/babel-russian/russianb.ldf))\n",
      "(c:/texlive/2018/texmf-dist/tex/latex/xcolor/xcolor.sty\n",
      "(c:/texlive/2018/texmf-dist/tex/latex/graphics-cfg/color.cfg))\n",
      "(c:/texlive/2018/texmf-dist/tex/latex/tools/verbatim.sty) (./example.aux)\n",
      "[1] (./example.aux) )\n",
      "Output written on example.pdf (1 page).\n",
      "Transcript written on example.log.\n"
     ]
    }
   ],
   "source": [
    "!xelatex example.tex"
   ]
  },
  {
   "cell_type": "code",
   "execution_count": 30,
   "metadata": {},
   "outputs": [
    {
     "name": "stdout",
     "output_type": "stream",
     "text": [
      "Writing standalone_templ_example2.tex\n"
     ]
    }
   ],
   "source": [
    "%%writefile standalone_templ_example2.tex\n",
    "\\documentclass[varwidth=true]{standalone}\n",
    "   \\usepackage{xltxtra} \n",
    "   \\usepackage{fontspec}\n",
    "  %  \\defaultfontfeatures{Renderer=Basic, Ligatures=TeX} %лигатуры работают в basic режиме\n",
    "    \\setmainfont{Times New Roman}\n",
    "    \\setsansfont{Arial}\n",
    "    \\setmonofont{Courier New}\n",
    "    \\newfontfamily{\\cyrillicfonttt}{Courier New} \n",
    "    \\newcommand{\\lsstyle}{\\addfontfeature{LetterSpace=12.0}}\n",
    "    \\usepackage[english,russian]{babel}\n",
    "    \\usepackage{xcolor}\n",
    "    \\usepackage{graphicx}\n",
    "    \\usepackage{verbatim} \n",
    "\n",
    "\\begin{document}\n",
    "\\section{Пример}\n",
    "Пример документа с использованием \\LaTeX, Python, и Jinja.\n",
    "\n",
    "% This is a regular LaTeX comment\n",
    "\\section{\\VAR{section1}}\n",
    "\\#{This is a long-form Jinja comment}\n",
    "\\begin{itemize}\n",
    "\\BLOCK{ for x in range(0, 3) }\n",
    "  \\item Counting: \\VAR{x}\n",
    "\\BLOCK{ endfor }\n",
    "\\end{itemize}\n",
    "\n",
    "\\section{\\VAR{section2}}\n",
    "%# This is a short-form Jinja comment\n",
    "\\begin{itemize}\n",
    "%% for x in range(0, 3)\n",
    "  \\item Counting: \\VAR{x}\n",
    "%% endfor\n",
    "\\end{itemize}\n",
    "\n",
    "\\end{document}\n"
   ]
  },
  {
   "cell_type": "code",
   "execution_count": 31,
   "metadata": {
    "collapsed": true
   },
   "outputs": [],
   "source": [
    "\n",
    "# tex-like delimiters\n",
    "latex_jinja_env = jinja2.Environment(\n",
    "    block_start_string = '\\BLOCK{',\n",
    "    block_end_string = '}',\n",
    "    variable_start_string = '\\VAR{',\n",
    "    variable_end_string = '}',\n",
    "    comment_start_string = '\\#{',\n",
    "    comment_end_string = '}',\n",
    "    line_statement_prefix = '%%',\n",
    "    line_comment_prefix = '%#',\n",
    "    trim_blocks = True,\n",
    "    autoescape = False,\n",
    "    loader = jinja2.FileSystemLoader(os.path.abspath('.'))\n",
    ")\n",
    "\n",
    "template = latex_jinja_env.get_template('standalone_templ_example2.tex')\n",
    "with open(\"example.tex\",\"w\",encoding=\"utf-8\") as tfile:  # DEFAULT encoding=\"CP1251\"  !!!\n",
    "    print(template.render(section1='Long Form', section2='Short Form'), file=tfile)"
   ]
  },
  {
   "cell_type": "markdown",
   "metadata": {},
   "source": [
    "### nbconvert-совместимые разделители \n",
    "\n",
    "```python\n",
    "environment.block_start_string = \"((*\"\n",
    "environment.block_end_string = \"*))\"\n",
    "environment.variable_start_string = \"(((\"\n",
    "environment.variable_end_string = \")))\"\n",
    "environment.comment_start_string = \"((=\"\n",
    "environment.comment_end_string = \"=))\"\n",
    "\n",
    "```"
   ]
  },
  {
   "cell_type": "code",
   "execution_count": 17,
   "metadata": {},
   "outputs": [],
   "source": [
    "latex_nbconvert_env = jinja2.Environment(\n",
    "    block_start_string = \"((*\",\n",
    "    block_end_string = \"*))\",\n",
    "    variable_start_string = \"(((\",\n",
    "    variable_end_string = \")))\",\n",
    "    comment_start_string = \"((=\",\n",
    "    comment_end_string = \"=))\",\n",
    "    trim_blocks = True,\n",
    "    autoescape = False,\n",
    "    loader = jinja2.FileSystemLoader(os.path.abspath('.'))\n",
    ")\n"
   ]
  },
  {
   "cell_type": "code",
   "execution_count": 18,
   "metadata": {},
   "outputs": [
    {
     "name": "stdout",
     "output_type": "stream",
     "text": [
      "Overwriting base_xelatex_standalone_template.tex\n"
     ]
    }
   ],
   "source": [
    "%%writefile base_xelatex_standalone_template.tex\n",
    "((* block docclass *))\n",
    "\\documentclass[varwidth=true]{standalone}\n",
    "((* endblock *))\n",
    "\n",
    "((* block preambula *))\n",
    "   \\usepackage{xltxtra} \n",
    "   \\usepackage{fontspec}\n",
    "%   \\defaultfontfeatures{Renderer=Basic, Ligatures=TeX} %лигатуры работают в basic режиме\n",
    "    \\setmainfont{Times New Roman}\n",
    "    \\setsansfont{Arial}\n",
    "    \\setmonofont{Courier New}\n",
    "    \\newfontfamily{\\cyrillicfonttt}{Courier New} \n",
    "    \\newcommand{\\lsstyle}{\\addfontfeature{LetterSpace=12.0}}\n",
    "    \\usepackage[english,russian]{babel}\n",
    "    \\usepackage{xcolor}\n",
    "    \\usepackage{graphicx}\n",
    "    \\usepackage{verbatim} \n",
    "((* endblock *))\n",
    "\n",
    "\\begin{document}\n",
    "((* block content *))\n",
    "((* endblock *))\n",
    "\\end{document}"
   ]
  },
  {
   "cell_type": "code",
   "execution_count": 19,
   "metadata": {},
   "outputs": [
    {
     "name": "stdout",
     "output_type": "stream",
     "text": [
      "Overwriting child_xelatex_standalone_template.tex\n"
     ]
    }
   ],
   "source": [
    "%%writefile child_xelatex_standalone_template.tex\n",
    "((* extends \"base_xelatex_standalone_template.tex\" *))\n",
    "\n",
    "((*block content*))\n",
    "Документ \\LaTeX{} про (((tema)))\n",
    "((* endblock*))"
   ]
  },
  {
   "cell_type": "code",
   "execution_count": 20,
   "metadata": {},
   "outputs": [],
   "source": [
    "template2 = latex_nbconvert_env.get_template('child_xelatex_standalone_template.tex')\n",
    "with open(\"example2.tex\",\"w\",encoding=\"utf-8\") as tfile:  # DEFAULT encoding=\"CP1251\"  !!!\n",
    "    print(template2.render(tema=\"стояние на реке Дон\"), file=tfile)"
   ]
  },
  {
   "cell_type": "code",
   "execution_count": 21,
   "metadata": {},
   "outputs": [
    {
     "name": "stdout",
     "output_type": "stream",
     "text": [
      "This is XeTeX, Version 3.14159265-2.6-0.99999 (TeX Live 2018/W32TeX) (preloaded format=xelatex)\n",
      " restricted \\write18 enabled.\n",
      "entering extended mode\n",
      "(./example2.tex\n",
      "LaTeX2e <2018-04-01> patch level 2\n",
      "Babel <3.18> and hyphenation patterns for 84 language(s) loaded.\n",
      "(c:/texlive/2018/texmf-dist/tex/latex/standalone/standalone.cls\n",
      "Document Class: standalone 2018/03/26 v1.3a Class to compile TeX sub-files stan\n",
      "dalone\n",
      "(c:/texlive/2018/texmf-dist/tex/latex/tools/shellesc.sty)\n",
      "(c:/texlive/2018/texmf-dist/tex/generic/oberdiek/ifluatex.sty)\n",
      "(c:/texlive/2018/texmf-dist/tex/generic/oberdiek/ifpdf.sty)\n",
      "(c:/texlive/2018/texmf-dist/tex/generic/ifxetex/ifxetex.sty)\n",
      "(c:/texlive/2018/texmf-dist/tex/latex/xkeyval/xkeyval.sty\n",
      "(c:/texlive/2018/texmf-dist/tex/generic/xkeyval/xkeyval.tex\n",
      "(c:/texlive/2018/texmf-dist/tex/generic/xkeyval/xkvutils.tex\n",
      "(c:/texlive/2018/texmf-dist/tex/generic/xkeyval/keyval.tex))))\n",
      "(c:/texlive/2018/texmf-dist/tex/latex/standalone/standalone.cfg)\n",
      "(c:/texlive/2018/texmf-dist/tex/latex/base/article.cls\n",
      "Document Class: article 2014/09/29 v1.4h Standard LaTeX document class\n",
      "(c:/texlive/2018/texmf-dist/tex/latex/base/size10.clo))\n",
      "(c:/texlive/2018/texmf-dist/tex/latex/varwidth/varwidth.sty))\n",
      "(c:/texlive/2018/texmf-dist/tex/latex/xltxtra/xltxtra.sty\n",
      "(c:/texlive/2018/texmf-dist/tex/latex/fontspec/fontspec.sty\n",
      "(c:/texlive/2018/texmf-dist/tex/latex/l3packages/xparse/xparse.sty\n",
      "(c:/texlive/2018/texmf-dist/tex/latex/l3kernel/expl3.sty\n",
      "(c:/texlive/2018/texmf-dist/tex/latex/l3kernel/expl3-code.tex)\n",
      "(c:/texlive/2018/texmf-dist/tex/latex/l3kernel/l3xdvipdfmx.def)))\n",
      "(c:/texlive/2018/texmf-dist/tex/latex/fontspec/fontspec-xetex.sty\n",
      "(c:/texlive/2018/texmf-dist/tex/latex/base/fontenc.sty\n",
      "(c:/texlive/2018/texmf-dist/tex/latex/base/tuenc.def))\n",
      "(c:/texlive/2018/texmf-dist/tex/latex/fontspec/fontspec.cfg)))\n",
      "(c:/texlive/2018/texmf-dist/tex/latex/realscripts/realscripts.sty)\n",
      "(c:/texlive/2018/texmf-dist/tex/latex/metalogo/metalogo.sty\n",
      "(c:/texlive/2018/texmf-dist/tex/latex/graphics/graphicx.sty\n",
      "(c:/texlive/2018/texmf-dist/tex/latex/graphics/graphics.sty\n",
      "(c:/texlive/2018/texmf-dist/tex/latex/graphics/trig.sty)\n",
      "(c:/texlive/2018/texmf-dist/tex/latex/graphics-cfg/graphics.cfg)\n",
      "(c:/texlive/2018/texmf-dist/tex/latex/graphics-def/xetex.def)))))\n",
      "(c:/texlive/2018/texmf-dist/tex/generic/babel/babel.sty\n",
      "(c:/texlive/2018/texmf-dist/tex/generic/babel/switch.def)\n",
      "(c:/texlive/2018/texmf-dist/tex/generic/babel-english/english.ldf\n",
      "(c:/texlive/2018/texmf-dist/tex/generic/babel/babel.def\n",
      "(c:/texlive/2018/texmf-dist/tex/generic/babel/xebabel.def\n",
      "(c:/texlive/2018/texmf-dist/tex/generic/babel/txtbabel.def))))\n",
      "(c:/texlive/2018/texmf-dist/tex/generic/babel-russian/russianb.ldf))\n",
      "(c:/texlive/2018/texmf-dist/tex/latex/xcolor/xcolor.sty\n",
      "(c:/texlive/2018/texmf-dist/tex/latex/graphics-cfg/color.cfg))\n",
      "(c:/texlive/2018/texmf-dist/tex/latex/tools/verbatim.sty) (./example2.aux)\n",
      "[1] (./example2.aux) )\n",
      "Output written on example2.pdf (1 page).\n",
      "Transcript written on example2.log.\n"
     ]
    }
   ],
   "source": [
    "!xelatex example2.tex"
   ]
  },
  {
   "cell_type": "markdown",
   "metadata": {
    "collapsed": true
   },
   "source": [
    "### Показ картинки из PDF\n",
    "\n",
    "Из [рецепта](https://stackoverflow.com/questions/19470099/view-pdf-image-in-an-ipython-notebook)"
   ]
  },
  {
   "cell_type": "code",
   "execution_count": 27,
   "metadata": {},
   "outputs": [],
   "source": [
    "class PDF(object):\n",
    "  def __init__(self, pdf, size=(200,200)):\n",
    "    self.pdf = pdf\n",
    "    self.size = size\n",
    "\n",
    "  def _repr_html_(self):\n",
    "    return '<iframe src={0} width={1[0]} height={1[1]}></iframe>'.format(self.pdf, self.size)\n",
    "\n",
    "  def _repr_latex_(self):\n",
    "    return r'\\includegraphics[width=1.0\\textwidth]{{{0}}}'.format(self.pdf)"
   ]
  },
  {
   "cell_type": "code",
   "execution_count": 35,
   "metadata": {},
   "outputs": [
    {
     "data": {
      "text/html": [
       "<iframe src=example2.pdf width=350 height=90></iframe>"
      ],
      "text/latex": [
       "\\includegraphics[width=1.0\\textwidth]{example2.pdf}"
      ],
      "text/plain": [
       "<__main__.PDF at 0xb2d590>"
      ]
     },
     "execution_count": 35,
     "metadata": {},
     "output_type": "execute_result"
    }
   ],
   "source": [
    "PDF(\"example2.pdf\",size=(350,90))"
   ]
  },
  {
   "cell_type": "markdown",
   "metadata": {},
   "source": [
    "### Строковая переменная в роли текстового файла"
   ]
  },
  {
   "cell_type": "code",
   "execution_count": 24,
   "metadata": {
    "collapsed": true
   },
   "outputs": [],
   "source": [
    "import pandas as pd\n",
    "from io import StringIO\n",
    "\n",
    "tab_data_csv_text = \"\"\"\n",
    "Продукт;Прирост\n",
    "сеялки;-30\n",
    "веялки;-10\n",
    "сенокосилки;30\n",
    "комбайны;25\n",
    "трактора;-10\n",
    "\"\"\"\n",
    "\n",
    "tab_data=pd.read_csv(StringIO(tab_data_csv_text),sep=\";\")\n"
   ]
  },
  {
   "cell_type": "code",
   "execution_count": 25,
   "metadata": {},
   "outputs": [
    {
     "data": {
      "text/html": [
       "<div>\n",
       "<style>\n",
       "    .dataframe thead tr:only-child th {\n",
       "        text-align: right;\n",
       "    }\n",
       "\n",
       "    .dataframe thead th {\n",
       "        text-align: left;\n",
       "    }\n",
       "\n",
       "    .dataframe tbody tr th {\n",
       "        vertical-align: top;\n",
       "    }\n",
       "</style>\n",
       "<table border=\"1\" class=\"dataframe\">\n",
       "  <thead>\n",
       "    <tr style=\"text-align: right;\">\n",
       "      <th></th>\n",
       "      <th>Продукт</th>\n",
       "      <th>Прирост</th>\n",
       "    </tr>\n",
       "  </thead>\n",
       "  <tbody>\n",
       "    <tr>\n",
       "      <th>0</th>\n",
       "      <td>сеялки</td>\n",
       "      <td>-30</td>\n",
       "    </tr>\n",
       "    <tr>\n",
       "      <th>1</th>\n",
       "      <td>веялки</td>\n",
       "      <td>-10</td>\n",
       "    </tr>\n",
       "    <tr>\n",
       "      <th>2</th>\n",
       "      <td>сенокосилки</td>\n",
       "      <td>30</td>\n",
       "    </tr>\n",
       "    <tr>\n",
       "      <th>3</th>\n",
       "      <td>комбайны</td>\n",
       "      <td>25</td>\n",
       "    </tr>\n",
       "    <tr>\n",
       "      <th>4</th>\n",
       "      <td>трактора</td>\n",
       "      <td>-10</td>\n",
       "    </tr>\n",
       "  </tbody>\n",
       "</table>\n",
       "</div>"
      ],
      "text/plain": [
       "       Продукт  Прирост\n",
       "0       сеялки      -30\n",
       "1       веялки      -10\n",
       "2  сенокосилки       30\n",
       "3     комбайны       25\n",
       "4     трактора      -10"
      ]
     },
     "execution_count": 25,
     "metadata": {},
     "output_type": "execute_result"
    }
   ],
   "source": [
    "tab_data"
   ]
  },
  {
   "cell_type": "markdown",
   "metadata": {},
   "source": [
    "### Пример: Таблица  LaTeX и documentclass article"
   ]
  },
  {
   "cell_type": "code",
   "execution_count": 31,
   "metadata": {},
   "outputs": [
    {
     "name": "stdout",
     "output_type": "stream",
     "text": [
      "Overwriting child_xelatex_article_template.tex\n"
     ]
    }
   ],
   "source": [
    "%%writefile child_xelatex_article_template.tex\n",
    "((* extends \"base_xelatex_standalone_template.tex\" *))\n",
    "\n",
    "((*block docclass*))\n",
    "\\documentclass[12pt,a4paper]{article}\n",
    "((* endblock*))\n",
    "\n",
    "((*block preambula*))\n",
    "(((super())))\n",
    "\\author{Илья Кочергин}\n",
    "\\title{Таблица сельхозтехники по шаблону}\n",
    "\\date{\\today}\n",
    "((* endblock*))\n",
    "\n",
    "\n",
    "((*block content*))\n",
    "\\maketitle\n",
    "\n",
    "\\section{Прирост выпуска сельскохозяйственной техники}\n",
    "\n",
    "\n",
    "\n",
    "\\begin{tabular}{||l|r||}\n",
    "\\hline\n",
    "категория товаров & прирост продаж \\\\\n",
    "\\hline\n",
    "((* for i in range(data|count) *))\n",
    "(((data.iloc[i,0] ))) & (((data.iloc[i,1] ))) \\\\\n",
    "((* endfor *))\n",
    "\\hline\n",
    "\\end{tabular}\n",
    "((* endblock*))"
   ]
  },
  {
   "cell_type": "code",
   "execution_count": 32,
   "metadata": {},
   "outputs": [],
   "source": [
    "template3 = latex_nbconvert_env.get_template('child_xelatex_article_template.tex')\n",
    "with open(\"example3article.tex\",\"w\",encoding=\"utf-8\") as tfile:  # DEFAULT encoding=\"CP1251\"  !!!\n",
    "    print(template3.render(data=tab_data), file=tfile)"
   ]
  },
  {
   "cell_type": "code",
   "execution_count": 33,
   "metadata": {},
   "outputs": [
    {
     "name": "stdout",
     "output_type": "stream",
     "text": [
      "This is XeTeX, Version 3.14159265-2.6-0.99996 (MiKTeX 2.9)\n",
      "entering extended mode\n",
      "(example3article.tex\n",
      "LaTeX2e <2016/03/31>\n",
      "Babel <3.9r> and hyphenation patterns for 75 language(s) loaded.\n",
      "(\"C:\\Program Files\\MiKTeX 2.9\\tex\\latex\\base\\article.cls\"\n",
      "Document Class: article 2014/09/29 v1.4h Standard LaTeX document class\n",
      "(\"C:\\Program Files\\MiKTeX 2.9\\tex\\latex\\base\\size12.clo\"))\n",
      "(\"C:\\Program Files\\MiKTeX 2.9\\tex\\latex\\xltxtra\\xltxtra.sty\"\n",
      "(\"C:\\Program Files\\MiKTeX 2.9\\tex\\generic\\oberdiek\\ifluatex.sty\")\n",
      "(\"C:\\Program Files\\MiKTeX 2.9\\tex\\generic\\ifxetex\\ifxetex.sty\")\n",
      "(\"C:\\Program Files\\MiKTeX 2.9\\tex\\latex\\fontspec\\fontspec.sty\"\n",
      "(\"C:\\Program Files\\MiKTeX 2.9\\tex\\latex\\l3kernel\\expl3.sty\"\n",
      "(\"C:\\Program Files\\MiKTeX 2.9\\tex\\latex\\l3kernel\\expl3-code.tex\")\n",
      "(\"C:\\Program Files\\MiKTeX 2.9\\tex\\latex\\l3kernel\\l3xdvipdfmx.def\"))\n",
      "(\"C:\\Program Files\\MiKTeX 2.9\\tex\\latex\\l3packages\\xparse\\xparse.sty\")\n",
      "(\"C:\\Program Files\\MiKTeX 2.9\\tex\\latex\\fontspec\\fontspec-xetex.sty\"\n",
      "(\"C:\\Program Files\\MiKTeX 2.9\\tex\\latex\\base\\fontenc.sty\"\n",
      "(\"C:\\Program Files\\MiKTeX 2.9\\tex\\latex\\euenc\\eu1enc.def\")\n",
      "(\"C:\\Program Files\\MiKTeX 2.9\\tex\\latex\\euenc\\eu1lmr.fd\"))\n",
      "(\"C:\\Program Files\\MiKTeX 2.9\\tex\\xelatex\\xunicode\\xunicode.sty\"\n",
      "(\"C:\\Program Files\\MiKTeX 2.9\\tex\\latex\\tipa\\t3enc.def\"\n",
      "(\"C:\\Program Files\\MiKTeX 2.9\\tex\\latex\\euenc\\eu1lmss.fd\"))\n",
      "(\"C:\\Program Files\\MiKTeX 2.9\\tex\\latex\\graphics\\graphicx.sty\"\n",
      "(\"C:\\Program Files\\MiKTeX 2.9\\tex\\latex\\graphics\\keyval.sty\")\n",
      "(\"C:\\Program Files\\MiKTeX 2.9\\tex\\latex\\graphics\\graphics.sty\"\n",
      "(\"C:\\Program Files\\MiKTeX 2.9\\tex\\latex\\graphics\\trig.sty\")\n",
      "(\"C:\\Program Files\\MiKTeX 2.9\\tex\\latex\\00miktex\\graphics.cfg\")\n",
      "(\"C:\\Program Files\\MiKTeX 2.9\\tex\\xelatex\\xetex-def\\xetex.def\"\n",
      "(\"C:\\Program Files\\MiKTeX 2.9\\tex\\generic\\oberdiek\\infwarerr.sty\")\n",
      "(\"C:\\Program Files\\MiKTeX 2.9\\tex\\generic\\oberdiek\\ltxcmds.sty\")))))\n",
      "(\"C:\\Program Files\\MiKTeX 2.9\\tex\\latex\\fontspec\\fontspec.cfg\")))\n",
      "(\"C:\\Program Files\\MiKTeX 2.9\\tex\\latex\\realscripts\\realscripts.sty\")\n",
      "(\"C:\\Program Files\\MiKTeX 2.9\\tex\\latex\\metalogo\\metalogo.sty\"))\n",
      "(\"C:\\Program Files\\MiKTeX 2.9\\tex\\generic\\babel\\babel.sty\"\n",
      "*************************************\n",
      "* Local config file bblopts.cfg used\n",
      "*\n",
      "(\"C:\\Program Files\\MiKTeX 2.9\\tex\\latex\\arabi\\bblopts.cfg\")\n",
      "(C:\\Users\\student\\AppData\\Roaming\\MiKTeX\\2.9\\tex\\latex\\babel-english\\english.ld\n",
      "f (\"C:\\Program Files\\MiKTeX 2.9\\tex\\generic\\babel\\babel.def\"\n",
      "(\"C:\\Program Files\\MiKTeX 2.9\\tex\\generic\\babel\\xebabel.def\")))\n",
      "(C:\\Users\\student\\AppData\\Roaming\\MiKTeX\\2.9\\tex\\latex\\babel-russian\\russianb.l\n",
      "df)) (\"C:\\Program Files\\MiKTeX 2.9\\tex\\latex\\xcolor\\xcolor.sty\"\n",
      "(\"C:\\Program Files\\MiKTeX 2.9\\tex\\latex\\00miktex\\color.cfg\"))\n",
      "(\"C:\\Program Files\\MiKTeX 2.9\\tex\\latex\\tools\\verbatim.sty\")\n",
      "(example3article.aux) (\"C:\\Program Files\\MiKTeX 2.9\\tex\\latex\\tipa\\t3cmr.fd\")\n",
      "Overfull \\hbox (3.51656pt too wide) in paragraph at lines 23--23\n",
      "[]\\EU1/TimesNewRoman(0)/bx/n/17.28 РџСЂРёСЂРѕСЃС‚ РІС‹РїСѓСЃРєР° СЃРµР»СЊСЃРєРѕС…РѕР·СЏР№СЃС‚РІРµРЅРЅРѕР№ С‚РµС…РЅРё-\n",
      "[1] (example3article.aux) )\n",
      "(see the transcript file for additional information)\n",
      "Output written on example3article.pdf (1 page).\n",
      "Transcript written on example3article.log.\n"
     ]
    },
    {
     "name": "stderr",
     "output_type": "stream",
     "text": [
      "stdin -> example3article.pdf\n",
      "[1]\n",
      "42412 bytes written\n"
     ]
    }
   ],
   "source": [
    "!xelatex example3article.tex"
   ]
  },
  {
   "cell_type": "code",
   "execution_count": 36,
   "metadata": {},
   "outputs": [
    {
     "name": "stderr",
     "output_type": "stream",
     "text": [
      "Не удается найти файл example3article.pdf.\n"
     ]
    }
   ],
   "source": [
    "!start example3article.pdf"
   ]
  },
  {
   "cell_type": "code",
   "execution_count": null,
   "metadata": {
    "collapsed": true
   },
   "outputs": [],
   "source": []
  }
 ],
 "metadata": {
  "kernelspec": {
   "display_name": "Python 3",
   "language": "python",
   "name": "python3"
  },
  "language_info": {
   "codemirror_mode": {
    "name": "ipython",
    "version": 3
   },
   "file_extension": ".py",
   "mimetype": "text/x-python",
   "name": "python",
   "nbconvert_exporter": "python",
   "pygments_lexer": "ipython3",
   "version": "3.6.4"
  }
 },
 "nbformat": 4,
 "nbformat_minor": 2
}
